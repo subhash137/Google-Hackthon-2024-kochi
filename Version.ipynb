{
 "cells": [
  {
   "cell_type": "code",
   "execution_count": null,
   "metadata": {},
   "outputs": [],
   "source": [
    "import os\n",
    "import json\n",
    "import subprocess\n",
    "\n",
    "# Get the list of imported libraries\n",
    "imported_libraries = [\n",
    "    \"streamlit\",\n",
    "    \"streamlit_chat\",\n",
    "    \"streamlit_lottie\",\n",
    "    \"st_pages\",\n",
    "    \"langchain_google_vertexai\",\n",
    "    \"vertexai\",\n",
    "    \"langchain_google_vertexai\",\n",
    "    \"fpdf\",\n",
    "    \n",
    "    \"langchain_core\",\n",
    "    \"langgraph\",\n",
    "    \"langchain_community\",\n",
    "    \"langchain_chroma\",\n",
    "    \"langchain\",\n",
    "    \"torch\",\n",
    "    \"tensorflow\",\n",
    "    \"transformers\",\n",
    "    \"sentence-transformers\",\n",
    "    \"langchain_experimental\",\n",
    "    \"\"\n",
    "]\n",
    "\n",
    "# Dictionary to store library versions\n",
    "library_versions = {}\n",
    "\n",
    "# Iterate through each library\n",
    "for library in imported_libraries:\n",
    "    try:\n",
    "        # Use subprocess to execute pip show command to get the version\n",
    "        result = subprocess.run(['pip', 'show', library], capture_output=True, text=True)\n",
    "        output = result.stdout.strip()\n",
    "        lines = output.split('\\n')\n",
    "        version_line = [line for line in lines if line.startswith(\"Version:\")][0]\n",
    "        version = version_line.split(\":\")[1].strip()\n",
    "        library_versions[library] = version\n",
    "    except Exception as e:\n",
    "        print(f\"Error getting version for {library}: {e}\")\n",
    "\n",
    "# Write library versions to a text file\n",
    "with open(\"library_versions.txt\", \"w\") as file:\n",
    "    for library, version in library_versions.items():\n",
    "        file.write(f\"{library}=={version}\\n\")\n",
    "\n",
    "print(\"Library versions saved to library_versions.txt\")\n"
   ]
  },
  {
   "cell_type": "code",
   "execution_count": null,
   "metadata": {},
   "outputs": [],
   "source": []
  }
 ],
 "metadata": {
  "language_info": {
   "name": "python"
  }
 },
 "nbformat": 4,
 "nbformat_minor": 2
}
